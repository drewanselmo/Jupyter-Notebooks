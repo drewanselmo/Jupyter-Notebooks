{
 "cells": [
  {
   "cell_type": "code",
   "execution_count": 12,
   "id": "139ea179",
   "metadata": {},
   "outputs": [],
   "source": [
    "import pandas as pd\n",
    "import numpy as np\n",
    "import matplotlib.pyplot as plt\n",
    "import seaborn as sns\n",
    "\n",
    "pd.set_option('display.max_columns', None)\n",
    "pd.set_option('display.max_rows', None)"
   ]
  },
  {
   "cell_type": "code",
   "execution_count": 13,
   "id": "0c41acd1",
   "metadata": {},
   "outputs": [
    {
     "data": {
      "text/plain": [
       "'C:\\\\Users\\\\drewa'"
      ]
     },
     "execution_count": 13,
     "metadata": {},
     "output_type": "execute_result"
    }
   ],
   "source": [
    "pwd\n",
    "# Checking what directory I'm in\n",
    "# For good habit"
   ]
  },
  {
   "cell_type": "code",
   "execution_count": 14,
   "id": "98ec907b",
   "metadata": {},
   "outputs": [],
   "source": [
    "df = pd.read_csv('used_cars_data.csv')"
   ]
  },
  {
   "cell_type": "code",
   "execution_count": 15,
   "id": "a98e39e9",
   "metadata": {},
   "outputs": [
    {
     "data": {
      "text/html": [
       "<div>\n",
       "<style scoped>\n",
       "    .dataframe tbody tr th:only-of-type {\n",
       "        vertical-align: middle;\n",
       "    }\n",
       "\n",
       "    .dataframe tbody tr th {\n",
       "        vertical-align: top;\n",
       "    }\n",
       "\n",
       "    .dataframe thead th {\n",
       "        text-align: right;\n",
       "    }\n",
       "</style>\n",
       "<table border=\"1\" class=\"dataframe\">\n",
       "  <thead>\n",
       "    <tr style=\"text-align: right;\">\n",
       "      <th></th>\n",
       "      <th>S.No.</th>\n",
       "      <th>Name</th>\n",
       "      <th>Location</th>\n",
       "      <th>Year</th>\n",
       "      <th>Kilometers_Driven</th>\n",
       "      <th>Fuel_Type</th>\n",
       "      <th>Transmission</th>\n",
       "      <th>Owner_Type</th>\n",
       "      <th>Mileage</th>\n",
       "      <th>Engine</th>\n",
       "      <th>Power</th>\n",
       "      <th>Seats</th>\n",
       "      <th>New_Price</th>\n",
       "      <th>Price</th>\n",
       "    </tr>\n",
       "  </thead>\n",
       "  <tbody>\n",
       "    <tr>\n",
       "      <th>0</th>\n",
       "      <td>0</td>\n",
       "      <td>Maruti Wagon R LXI CNG</td>\n",
       "      <td>Mumbai</td>\n",
       "      <td>2010</td>\n",
       "      <td>72000</td>\n",
       "      <td>CNG</td>\n",
       "      <td>Manual</td>\n",
       "      <td>First</td>\n",
       "      <td>26.6 km/kg</td>\n",
       "      <td>998 CC</td>\n",
       "      <td>58.16 bhp</td>\n",
       "      <td>5.0</td>\n",
       "      <td>NaN</td>\n",
       "      <td>1.75</td>\n",
       "    </tr>\n",
       "    <tr>\n",
       "      <th>1</th>\n",
       "      <td>1</td>\n",
       "      <td>Hyundai Creta 1.6 CRDi SX Option</td>\n",
       "      <td>Pune</td>\n",
       "      <td>2015</td>\n",
       "      <td>41000</td>\n",
       "      <td>Diesel</td>\n",
       "      <td>Manual</td>\n",
       "      <td>First</td>\n",
       "      <td>19.67 kmpl</td>\n",
       "      <td>1582 CC</td>\n",
       "      <td>126.2 bhp</td>\n",
       "      <td>5.0</td>\n",
       "      <td>NaN</td>\n",
       "      <td>12.50</td>\n",
       "    </tr>\n",
       "    <tr>\n",
       "      <th>2</th>\n",
       "      <td>2</td>\n",
       "      <td>Honda Jazz V</td>\n",
       "      <td>Chennai</td>\n",
       "      <td>2011</td>\n",
       "      <td>46000</td>\n",
       "      <td>Petrol</td>\n",
       "      <td>Manual</td>\n",
       "      <td>First</td>\n",
       "      <td>18.2 kmpl</td>\n",
       "      <td>1199 CC</td>\n",
       "      <td>88.7 bhp</td>\n",
       "      <td>5.0</td>\n",
       "      <td>8.61 Lakh</td>\n",
       "      <td>4.50</td>\n",
       "    </tr>\n",
       "    <tr>\n",
       "      <th>3</th>\n",
       "      <td>3</td>\n",
       "      <td>Maruti Ertiga VDI</td>\n",
       "      <td>Chennai</td>\n",
       "      <td>2012</td>\n",
       "      <td>87000</td>\n",
       "      <td>Diesel</td>\n",
       "      <td>Manual</td>\n",
       "      <td>First</td>\n",
       "      <td>20.77 kmpl</td>\n",
       "      <td>1248 CC</td>\n",
       "      <td>88.76 bhp</td>\n",
       "      <td>7.0</td>\n",
       "      <td>NaN</td>\n",
       "      <td>6.00</td>\n",
       "    </tr>\n",
       "    <tr>\n",
       "      <th>4</th>\n",
       "      <td>4</td>\n",
       "      <td>Audi A4 New 2.0 TDI Multitronic</td>\n",
       "      <td>Coimbatore</td>\n",
       "      <td>2013</td>\n",
       "      <td>40670</td>\n",
       "      <td>Diesel</td>\n",
       "      <td>Automatic</td>\n",
       "      <td>Second</td>\n",
       "      <td>15.2 kmpl</td>\n",
       "      <td>1968 CC</td>\n",
       "      <td>140.8 bhp</td>\n",
       "      <td>5.0</td>\n",
       "      <td>NaN</td>\n",
       "      <td>17.74</td>\n",
       "    </tr>\n",
       "  </tbody>\n",
       "</table>\n",
       "</div>"
      ],
      "text/plain": [
       "   S.No.                              Name    Location  Year  \\\n",
       "0      0            Maruti Wagon R LXI CNG      Mumbai  2010   \n",
       "1      1  Hyundai Creta 1.6 CRDi SX Option        Pune  2015   \n",
       "2      2                      Honda Jazz V     Chennai  2011   \n",
       "3      3                 Maruti Ertiga VDI     Chennai  2012   \n",
       "4      4   Audi A4 New 2.0 TDI Multitronic  Coimbatore  2013   \n",
       "\n",
       "   Kilometers_Driven Fuel_Type Transmission Owner_Type     Mileage   Engine  \\\n",
       "0              72000       CNG       Manual      First  26.6 km/kg   998 CC   \n",
       "1              41000    Diesel       Manual      First  19.67 kmpl  1582 CC   \n",
       "2              46000    Petrol       Manual      First   18.2 kmpl  1199 CC   \n",
       "3              87000    Diesel       Manual      First  20.77 kmpl  1248 CC   \n",
       "4              40670    Diesel    Automatic     Second   15.2 kmpl  1968 CC   \n",
       "\n",
       "       Power  Seats  New_Price  Price  \n",
       "0  58.16 bhp    5.0        NaN   1.75  \n",
       "1  126.2 bhp    5.0        NaN  12.50  \n",
       "2   88.7 bhp    5.0  8.61 Lakh   4.50  \n",
       "3  88.76 bhp    7.0        NaN   6.00  \n",
       "4  140.8 bhp    5.0        NaN  17.74  "
      ]
     },
     "execution_count": 15,
     "metadata": {},
     "output_type": "execute_result"
    }
   ],
   "source": [
    "df.head()\n",
    "# Checking to make sure it's loaded"
   ]
  },
  {
   "cell_type": "code",
   "execution_count": 10,
   "id": "9edfd82e",
   "metadata": {},
   "outputs": [
    {
     "name": "stdout",
     "output_type": "stream",
     "text": [
      "There are 7253 rows and 14 columns.\n"
     ]
    }
   ],
   "source": [
    "print(f'There are {df.shape[0]} rows and {df.shape[1]} columns.')\n",
    "# Printing to see exactly how much data I'm working with\n",
    "# There are 14 columns"
   ]
  },
  {
   "cell_type": "code",
   "execution_count": 11,
   "id": "0ac7721c",
   "metadata": {},
   "outputs": [
    {
     "data": {
      "text/html": [
       "<div>\n",
       "<style scoped>\n",
       "    .dataframe tbody tr th:only-of-type {\n",
       "        vertical-align: middle;\n",
       "    }\n",
       "\n",
       "    .dataframe tbody tr th {\n",
       "        vertical-align: top;\n",
       "    }\n",
       "\n",
       "    .dataframe thead th {\n",
       "        text-align: right;\n",
       "    }\n",
       "</style>\n",
       "<table border=\"1\" class=\"dataframe\">\n",
       "  <thead>\n",
       "    <tr style=\"text-align: right;\">\n",
       "      <th></th>\n",
       "      <th>S.No.</th>\n",
       "      <th>Name</th>\n",
       "      <th>Location</th>\n",
       "      <th>Year</th>\n",
       "      <th>Kilometers_Driven</th>\n",
       "      <th>Fuel_Type</th>\n",
       "      <th>Transmission</th>\n",
       "      <th>Owner_Type</th>\n",
       "      <th>Mileage</th>\n",
       "      <th>Engine</th>\n",
       "      <th>Power</th>\n",
       "      <th>Seats</th>\n",
       "      <th>New_Price</th>\n",
       "      <th>Price</th>\n",
       "    </tr>\n",
       "  </thead>\n",
       "  <tbody>\n",
       "    <tr>\n",
       "      <th>2397</th>\n",
       "      <td>2397</td>\n",
       "      <td>Ford EcoSport 1.5 Petrol Trend</td>\n",
       "      <td>Kolkata</td>\n",
       "      <td>2016</td>\n",
       "      <td>21460</td>\n",
       "      <td>Petrol</td>\n",
       "      <td>Manual</td>\n",
       "      <td>First</td>\n",
       "      <td>17.0 kmpl</td>\n",
       "      <td>1497 CC</td>\n",
       "      <td>121.36 bhp</td>\n",
       "      <td>5.0</td>\n",
       "      <td>9.47 Lakh</td>\n",
       "      <td>6.00</td>\n",
       "    </tr>\n",
       "    <tr>\n",
       "      <th>3777</th>\n",
       "      <td>3777</td>\n",
       "      <td>Maruti Wagon R VXI 1.2</td>\n",
       "      <td>Kochi</td>\n",
       "      <td>2015</td>\n",
       "      <td>49818</td>\n",
       "      <td>Petrol</td>\n",
       "      <td>Manual</td>\n",
       "      <td>First</td>\n",
       "      <td>21.5 kmpl</td>\n",
       "      <td>1197 CC</td>\n",
       "      <td>81.80 bhp</td>\n",
       "      <td>5.0</td>\n",
       "      <td>5.44 Lakh</td>\n",
       "      <td>4.11</td>\n",
       "    </tr>\n",
       "    <tr>\n",
       "      <th>4425</th>\n",
       "      <td>4425</td>\n",
       "      <td>Ford Endeavour 4x2 XLT</td>\n",
       "      <td>Hyderabad</td>\n",
       "      <td>2007</td>\n",
       "      <td>130000</td>\n",
       "      <td>Diesel</td>\n",
       "      <td>Manual</td>\n",
       "      <td>First</td>\n",
       "      <td>13.1 kmpl</td>\n",
       "      <td>2499 CC</td>\n",
       "      <td>141 bhp</td>\n",
       "      <td>7.0</td>\n",
       "      <td>NaN</td>\n",
       "      <td>6.00</td>\n",
       "    </tr>\n",
       "    <tr>\n",
       "      <th>3661</th>\n",
       "      <td>3661</td>\n",
       "      <td>Mercedes-Benz E-Class E250 CDI Avantgrade</td>\n",
       "      <td>Coimbatore</td>\n",
       "      <td>2016</td>\n",
       "      <td>39753</td>\n",
       "      <td>Diesel</td>\n",
       "      <td>Automatic</td>\n",
       "      <td>First</td>\n",
       "      <td>13.0 kmpl</td>\n",
       "      <td>2143 CC</td>\n",
       "      <td>201.1 bhp</td>\n",
       "      <td>5.0</td>\n",
       "      <td>NaN</td>\n",
       "      <td>35.28</td>\n",
       "    </tr>\n",
       "    <tr>\n",
       "      <th>4514</th>\n",
       "      <td>4514</td>\n",
       "      <td>Hyundai Xcent 1.2 Kappa AT SX Option</td>\n",
       "      <td>Kochi</td>\n",
       "      <td>2016</td>\n",
       "      <td>45560</td>\n",
       "      <td>Petrol</td>\n",
       "      <td>Automatic</td>\n",
       "      <td>First</td>\n",
       "      <td>16.9 kmpl</td>\n",
       "      <td>1197 CC</td>\n",
       "      <td>82 bhp</td>\n",
       "      <td>5.0</td>\n",
       "      <td>NaN</td>\n",
       "      <td>6.34</td>\n",
       "    </tr>\n",
       "    <tr>\n",
       "      <th>599</th>\n",
       "      <td>599</td>\n",
       "      <td>Toyota Innova Crysta 2.8 ZX AT</td>\n",
       "      <td>Coimbatore</td>\n",
       "      <td>2019</td>\n",
       "      <td>40674</td>\n",
       "      <td>Diesel</td>\n",
       "      <td>Automatic</td>\n",
       "      <td>First</td>\n",
       "      <td>11.36 kmpl</td>\n",
       "      <td>2755 CC</td>\n",
       "      <td>171.5 bhp</td>\n",
       "      <td>7.0</td>\n",
       "      <td>28.05 Lakh</td>\n",
       "      <td>24.82</td>\n",
       "    </tr>\n",
       "    <tr>\n",
       "      <th>186</th>\n",
       "      <td>186</td>\n",
       "      <td>Mercedes-Benz E-Class E250 CDI Avantgrade</td>\n",
       "      <td>Bangalore</td>\n",
       "      <td>2014</td>\n",
       "      <td>37382</td>\n",
       "      <td>Diesel</td>\n",
       "      <td>Automatic</td>\n",
       "      <td>First</td>\n",
       "      <td>13.0 kmpl</td>\n",
       "      <td>2143 CC</td>\n",
       "      <td>201.1 bhp</td>\n",
       "      <td>5.0</td>\n",
       "      <td>NaN</td>\n",
       "      <td>32.00</td>\n",
       "    </tr>\n",
       "    <tr>\n",
       "      <th>305</th>\n",
       "      <td>305</td>\n",
       "      <td>Audi A6 2011-2015 2.0 TDI Premium Plus</td>\n",
       "      <td>Kochi</td>\n",
       "      <td>2014</td>\n",
       "      <td>61726</td>\n",
       "      <td>Diesel</td>\n",
       "      <td>Automatic</td>\n",
       "      <td>First</td>\n",
       "      <td>17.68 kmpl</td>\n",
       "      <td>1968 CC</td>\n",
       "      <td>174.33 bhp</td>\n",
       "      <td>5.0</td>\n",
       "      <td>NaN</td>\n",
       "      <td>20.77</td>\n",
       "    </tr>\n",
       "    <tr>\n",
       "      <th>4582</th>\n",
       "      <td>4582</td>\n",
       "      <td>Hyundai i20 1.2 Magna</td>\n",
       "      <td>Kolkata</td>\n",
       "      <td>2011</td>\n",
       "      <td>36000</td>\n",
       "      <td>Petrol</td>\n",
       "      <td>Manual</td>\n",
       "      <td>First</td>\n",
       "      <td>18.5 kmpl</td>\n",
       "      <td>1197 CC</td>\n",
       "      <td>80 bhp</td>\n",
       "      <td>5.0</td>\n",
       "      <td>NaN</td>\n",
       "      <td>2.50</td>\n",
       "    </tr>\n",
       "    <tr>\n",
       "      <th>5434</th>\n",
       "      <td>5434</td>\n",
       "      <td>Honda WR-V Edge Edition i-VTEC S</td>\n",
       "      <td>Kochi</td>\n",
       "      <td>2019</td>\n",
       "      <td>13913</td>\n",
       "      <td>Petrol</td>\n",
       "      <td>Manual</td>\n",
       "      <td>First</td>\n",
       "      <td>17.5 kmpl</td>\n",
       "      <td>1199 CC</td>\n",
       "      <td>88.7 bhp</td>\n",
       "      <td>5.0</td>\n",
       "      <td>9.36 Lakh</td>\n",
       "      <td>8.20</td>\n",
       "    </tr>\n",
       "  </tbody>\n",
       "</table>\n",
       "</div>"
      ],
      "text/plain": [
       "      S.No.                                       Name    Location  Year  \\\n",
       "2397   2397             Ford EcoSport 1.5 Petrol Trend     Kolkata  2016   \n",
       "3777   3777                     Maruti Wagon R VXI 1.2       Kochi  2015   \n",
       "4425   4425                     Ford Endeavour 4x2 XLT   Hyderabad  2007   \n",
       "3661   3661  Mercedes-Benz E-Class E250 CDI Avantgrade  Coimbatore  2016   \n",
       "4514   4514       Hyundai Xcent 1.2 Kappa AT SX Option       Kochi  2016   \n",
       "599     599             Toyota Innova Crysta 2.8 ZX AT  Coimbatore  2019   \n",
       "186     186  Mercedes-Benz E-Class E250 CDI Avantgrade   Bangalore  2014   \n",
       "305     305     Audi A6 2011-2015 2.0 TDI Premium Plus       Kochi  2014   \n",
       "4582   4582                      Hyundai i20 1.2 Magna     Kolkata  2011   \n",
       "5434   5434           Honda WR-V Edge Edition i-VTEC S       Kochi  2019   \n",
       "\n",
       "      Kilometers_Driven Fuel_Type Transmission Owner_Type     Mileage  \\\n",
       "2397              21460    Petrol       Manual      First   17.0 kmpl   \n",
       "3777              49818    Petrol       Manual      First   21.5 kmpl   \n",
       "4425             130000    Diesel       Manual      First   13.1 kmpl   \n",
       "3661              39753    Diesel    Automatic      First   13.0 kmpl   \n",
       "4514              45560    Petrol    Automatic      First   16.9 kmpl   \n",
       "599               40674    Diesel    Automatic      First  11.36 kmpl   \n",
       "186               37382    Diesel    Automatic      First   13.0 kmpl   \n",
       "305               61726    Diesel    Automatic      First  17.68 kmpl   \n",
       "4582              36000    Petrol       Manual      First   18.5 kmpl   \n",
       "5434              13913    Petrol       Manual      First   17.5 kmpl   \n",
       "\n",
       "       Engine       Power  Seats   New_Price  Price  \n",
       "2397  1497 CC  121.36 bhp    5.0   9.47 Lakh   6.00  \n",
       "3777  1197 CC   81.80 bhp    5.0   5.44 Lakh   4.11  \n",
       "4425  2499 CC     141 bhp    7.0         NaN   6.00  \n",
       "3661  2143 CC   201.1 bhp    5.0         NaN  35.28  \n",
       "4514  1197 CC      82 bhp    5.0         NaN   6.34  \n",
       "599   2755 CC   171.5 bhp    7.0  28.05 Lakh  24.82  \n",
       "186   2143 CC   201.1 bhp    5.0         NaN  32.00  \n",
       "305   1968 CC  174.33 bhp    5.0         NaN  20.77  \n",
       "4582  1197 CC      80 bhp    5.0         NaN   2.50  \n",
       "5434  1199 CC    88.7 bhp    5.0   9.36 Lakh   8.20  "
      ]
     },
     "execution_count": 11,
     "metadata": {},
     "output_type": "execute_result"
    }
   ],
   "source": [
    "np.random.seed(1)\n",
    "df.sample(n=10)\n",
    "# It is a good idea to look at random samples since formatting can vary throughout"
   ]
  },
  {
   "cell_type": "code",
   "execution_count": 12,
   "id": "ff9fe9fc",
   "metadata": {},
   "outputs": [],
   "source": [
    "# Nothing in the data I want to drop\n",
    "# Besides maybe S.No because I can't forsee myself using that data for anything useful\n",
    "# It is redundant data to me\n",
    "df.drop(['S.No.'],axis=1,inplace=True)"
   ]
  },
  {
   "cell_type": "code",
   "execution_count": 13,
   "id": "c05cc9c8",
   "metadata": {},
   "outputs": [
    {
     "data": {
      "text/html": [
       "<div>\n",
       "<style scoped>\n",
       "    .dataframe tbody tr th:only-of-type {\n",
       "        vertical-align: middle;\n",
       "    }\n",
       "\n",
       "    .dataframe tbody tr th {\n",
       "        vertical-align: top;\n",
       "    }\n",
       "\n",
       "    .dataframe thead th {\n",
       "        text-align: right;\n",
       "    }\n",
       "</style>\n",
       "<table border=\"1\" class=\"dataframe\">\n",
       "  <thead>\n",
       "    <tr style=\"text-align: right;\">\n",
       "      <th></th>\n",
       "      <th>Name</th>\n",
       "      <th>Location</th>\n",
       "      <th>Year</th>\n",
       "      <th>Kilometers_Driven</th>\n",
       "      <th>Fuel_Type</th>\n",
       "      <th>Transmission</th>\n",
       "      <th>Owner_Type</th>\n",
       "      <th>Mileage</th>\n",
       "      <th>Engine</th>\n",
       "      <th>Power</th>\n",
       "      <th>Seats</th>\n",
       "      <th>New_Price</th>\n",
       "      <th>Price</th>\n",
       "    </tr>\n",
       "  </thead>\n",
       "  <tbody>\n",
       "    <tr>\n",
       "      <th>2245</th>\n",
       "      <td>Maruti Wagon R VXI 1.2</td>\n",
       "      <td>Mumbai</td>\n",
       "      <td>2015</td>\n",
       "      <td>55000</td>\n",
       "      <td>Petrol</td>\n",
       "      <td>Manual</td>\n",
       "      <td>First</td>\n",
       "      <td>21.5 kmpl</td>\n",
       "      <td>1197 CC</td>\n",
       "      <td>81.80 bhp</td>\n",
       "      <td>5.0</td>\n",
       "      <td>5.88 Lakh</td>\n",
       "      <td>3.10</td>\n",
       "    </tr>\n",
       "    <tr>\n",
       "      <th>6407</th>\n",
       "      <td>Maruti Swift LXI Option</td>\n",
       "      <td>Kochi</td>\n",
       "      <td>2017</td>\n",
       "      <td>62889</td>\n",
       "      <td>Petrol</td>\n",
       "      <td>Manual</td>\n",
       "      <td>First</td>\n",
       "      <td>20.4 kmpl</td>\n",
       "      <td>1197 CC</td>\n",
       "      <td>81.80 bhp</td>\n",
       "      <td>5.0</td>\n",
       "      <td>NaN</td>\n",
       "      <td>NaN</td>\n",
       "    </tr>\n",
       "    <tr>\n",
       "      <th>1226</th>\n",
       "      <td>Toyota Corolla Altis 1.8 VL CVT</td>\n",
       "      <td>Delhi</td>\n",
       "      <td>2017</td>\n",
       "      <td>21000</td>\n",
       "      <td>Petrol</td>\n",
       "      <td>Automatic</td>\n",
       "      <td>First</td>\n",
       "      <td>14.28 kmpl</td>\n",
       "      <td>1798 CC</td>\n",
       "      <td>138.03 bhp</td>\n",
       "      <td>5.0</td>\n",
       "      <td>23.25 Lakh</td>\n",
       "      <td>18.00</td>\n",
       "    </tr>\n",
       "    <tr>\n",
       "      <th>533</th>\n",
       "      <td>Honda City 1.5 V AT</td>\n",
       "      <td>Mumbai</td>\n",
       "      <td>2010</td>\n",
       "      <td>69000</td>\n",
       "      <td>Petrol</td>\n",
       "      <td>Automatic</td>\n",
       "      <td>Second</td>\n",
       "      <td>16.8 kmpl</td>\n",
       "      <td>1497 CC</td>\n",
       "      <td>118 bhp</td>\n",
       "      <td>5.0</td>\n",
       "      <td>NaN</td>\n",
       "      <td>2.85</td>\n",
       "    </tr>\n",
       "    <tr>\n",
       "      <th>6330</th>\n",
       "      <td>Hyundai i20 Asta 1.2</td>\n",
       "      <td>Kolkata</td>\n",
       "      <td>2015</td>\n",
       "      <td>33000</td>\n",
       "      <td>Petrol</td>\n",
       "      <td>Manual</td>\n",
       "      <td>First</td>\n",
       "      <td>18.6 kmpl</td>\n",
       "      <td>1197 CC</td>\n",
       "      <td>81.83 bhp</td>\n",
       "      <td>5.0</td>\n",
       "      <td>NaN</td>\n",
       "      <td>NaN</td>\n",
       "    </tr>\n",
       "    <tr>\n",
       "      <th>5931</th>\n",
       "      <td>Maruti Ertiga VXI</td>\n",
       "      <td>Mumbai</td>\n",
       "      <td>2012</td>\n",
       "      <td>52500</td>\n",
       "      <td>Petrol</td>\n",
       "      <td>Manual</td>\n",
       "      <td>Second</td>\n",
       "      <td>16.02 kmpl</td>\n",
       "      <td>1373 CC</td>\n",
       "      <td>93.7 bhp</td>\n",
       "      <td>7.0</td>\n",
       "      <td>NaN</td>\n",
       "      <td>5.25</td>\n",
       "    </tr>\n",
       "    <tr>\n",
       "      <th>2784</th>\n",
       "      <td>Nissan Micra Diesel XV</td>\n",
       "      <td>Hyderabad</td>\n",
       "      <td>2011</td>\n",
       "      <td>86732</td>\n",
       "      <td>Diesel</td>\n",
       "      <td>Manual</td>\n",
       "      <td>First</td>\n",
       "      <td>23.08 kmpl</td>\n",
       "      <td>1461 CC</td>\n",
       "      <td>63.1 bhp</td>\n",
       "      <td>5.0</td>\n",
       "      <td>NaN</td>\n",
       "      <td>3.60</td>\n",
       "    </tr>\n",
       "    <tr>\n",
       "      <th>5180</th>\n",
       "      <td>Skoda Superb Elegance 1.8 TSI AT</td>\n",
       "      <td>Bangalore</td>\n",
       "      <td>2009</td>\n",
       "      <td>75000</td>\n",
       "      <td>Petrol</td>\n",
       "      <td>Automatic</td>\n",
       "      <td>Second</td>\n",
       "      <td>13.7 kmpl</td>\n",
       "      <td>1798 CC</td>\n",
       "      <td>157.75 bhp</td>\n",
       "      <td>5.0</td>\n",
       "      <td>NaN</td>\n",
       "      <td>4.95</td>\n",
       "    </tr>\n",
       "    <tr>\n",
       "      <th>2722</th>\n",
       "      <td>Volkswagen Ameo 1.5 TDI Highline</td>\n",
       "      <td>Kochi</td>\n",
       "      <td>2018</td>\n",
       "      <td>31426</td>\n",
       "      <td>Diesel</td>\n",
       "      <td>Manual</td>\n",
       "      <td>First</td>\n",
       "      <td>21.66 kmpl</td>\n",
       "      <td>1498 CC</td>\n",
       "      <td>108.62 bhp</td>\n",
       "      <td>5.0</td>\n",
       "      <td>9.72 Lakh</td>\n",
       "      <td>7.90</td>\n",
       "    </tr>\n",
       "    <tr>\n",
       "      <th>5322</th>\n",
       "      <td>Hyundai Grand i10 CRDi Sportz</td>\n",
       "      <td>Ahmedabad</td>\n",
       "      <td>2016</td>\n",
       "      <td>30000</td>\n",
       "      <td>Diesel</td>\n",
       "      <td>Manual</td>\n",
       "      <td>First</td>\n",
       "      <td>24.0 kmpl</td>\n",
       "      <td>1120 CC</td>\n",
       "      <td>70 bhp</td>\n",
       "      <td>5.0</td>\n",
       "      <td>NaN</td>\n",
       "      <td>5.50</td>\n",
       "    </tr>\n",
       "  </tbody>\n",
       "</table>\n",
       "</div>"
      ],
      "text/plain": [
       "                                  Name   Location  Year  Kilometers_Driven  \\\n",
       "2245            Maruti Wagon R VXI 1.2     Mumbai  2015              55000   \n",
       "6407           Maruti Swift LXI Option      Kochi  2017              62889   \n",
       "1226   Toyota Corolla Altis 1.8 VL CVT      Delhi  2017              21000   \n",
       "533                Honda City 1.5 V AT     Mumbai  2010              69000   \n",
       "6330              Hyundai i20 Asta 1.2    Kolkata  2015              33000   \n",
       "5931                 Maruti Ertiga VXI     Mumbai  2012              52500   \n",
       "2784            Nissan Micra Diesel XV  Hyderabad  2011              86732   \n",
       "5180  Skoda Superb Elegance 1.8 TSI AT  Bangalore  2009              75000   \n",
       "2722  Volkswagen Ameo 1.5 TDI Highline      Kochi  2018              31426   \n",
       "5322     Hyundai Grand i10 CRDi Sportz  Ahmedabad  2016              30000   \n",
       "\n",
       "     Fuel_Type Transmission Owner_Type     Mileage   Engine       Power  \\\n",
       "2245    Petrol       Manual      First   21.5 kmpl  1197 CC   81.80 bhp   \n",
       "6407    Petrol       Manual      First   20.4 kmpl  1197 CC   81.80 bhp   \n",
       "1226    Petrol    Automatic      First  14.28 kmpl  1798 CC  138.03 bhp   \n",
       "533     Petrol    Automatic     Second   16.8 kmpl  1497 CC     118 bhp   \n",
       "6330    Petrol       Manual      First   18.6 kmpl  1197 CC   81.83 bhp   \n",
       "5931    Petrol       Manual     Second  16.02 kmpl  1373 CC    93.7 bhp   \n",
       "2784    Diesel       Manual      First  23.08 kmpl  1461 CC    63.1 bhp   \n",
       "5180    Petrol    Automatic     Second   13.7 kmpl  1798 CC  157.75 bhp   \n",
       "2722    Diesel       Manual      First  21.66 kmpl  1498 CC  108.62 bhp   \n",
       "5322    Diesel       Manual      First   24.0 kmpl  1120 CC      70 bhp   \n",
       "\n",
       "      Seats   New_Price  Price  \n",
       "2245    5.0   5.88 Lakh   3.10  \n",
       "6407    5.0         NaN    NaN  \n",
       "1226    5.0  23.25 Lakh  18.00  \n",
       "533     5.0         NaN   2.85  \n",
       "6330    5.0         NaN    NaN  \n",
       "5931    7.0         NaN   5.25  \n",
       "2784    5.0         NaN   3.60  \n",
       "5180    5.0         NaN   4.95  \n",
       "2722    5.0   9.72 Lakh   7.90  \n",
       "5322    5.0         NaN   5.50  "
      ]
     },
     "execution_count": 13,
     "metadata": {},
     "output_type": "execute_result"
    }
   ],
   "source": [
    "df.sample(n=10)\n",
    "# Checking to make sure it dropped the correct column"
   ]
  },
  {
   "cell_type": "code",
   "execution_count": 16,
   "id": "48e81358",
   "metadata": {},
   "outputs": [
    {
     "name": "stdout",
     "output_type": "stream",
     "text": [
      "<class 'pandas.core.frame.DataFrame'>\n",
      "RangeIndex: 7253 entries, 0 to 7252\n",
      "Data columns (total 13 columns):\n",
      " #   Column             Non-Null Count  Dtype  \n",
      "---  ------             --------------  -----  \n",
      " 0   Name               7253 non-null   object \n",
      " 1   Location           7253 non-null   object \n",
      " 2   Year               7253 non-null   int64  \n",
      " 3   Kilometers_Driven  7253 non-null   int64  \n",
      " 4   Fuel_Type          7253 non-null   object \n",
      " 5   Transmission       7253 non-null   object \n",
      " 6   Owner_Type         7253 non-null   object \n",
      " 7   Mileage            7251 non-null   object \n",
      " 8   Engine             7207 non-null   object \n",
      " 9   Power              7078 non-null   object \n",
      " 10  Seats              7200 non-null   float64\n",
      " 11  New_Price          1006 non-null   object \n",
      " 12  Price              6019 non-null   float64\n",
      "dtypes: float64(2), int64(2), object(9)\n",
      "memory usage: 736.8+ KB\n"
     ]
    }
   ],
   "source": [
    "df.info()\n",
    "# One less column, now there are 13, also good to know the datatypes\n",
    "# Which I already scanned over it in my above steps"
   ]
  },
  {
   "cell_type": "code",
   "execution_count": 17,
   "id": "2a7fcb00",
   "metadata": {},
   "outputs": [],
   "source": [
    "# We can see there is some missingness in the non-null count\n",
    "# New_Price probably wouldn't be good for the model as it has way too many missing values"
   ]
  },
  {
   "cell_type": "code",
   "execution_count": 20,
   "id": "d663adab",
   "metadata": {},
   "outputs": [
    {
     "data": {
      "text/plain": [
       "New_Price            6247\n",
       "Price                1234\n",
       "Power                 175\n",
       "Seats                  53\n",
       "Engine                 46\n",
       "Mileage                 2\n",
       "Name                    0\n",
       "Location                0\n",
       "Year                    0\n",
       "Kilometers_Driven       0\n",
       "Fuel_Type               0\n",
       "Transmission            0\n",
       "Owner_Type              0\n",
       "dtype: int64"
      ]
     },
     "execution_count": 20,
     "metadata": {},
     "output_type": "execute_result"
    }
   ],
   "source": [
    "df.isnull().sum().sort_values(ascending=False)\n",
    "# Sorting the missing values"
   ]
  },
  {
   "cell_type": "code",
   "execution_count": 21,
   "id": "6c19ee81",
   "metadata": {},
   "outputs": [],
   "source": [
    "# New_Price has the most missing values"
   ]
  },
  {
   "cell_type": "code",
   "execution_count": 22,
   "id": "289fbcf7",
   "metadata": {},
   "outputs": [],
   "source": [
    "# This makes sense, when I review the data above I see a lot of NaN"
   ]
  },
  {
   "cell_type": "code",
   "execution_count": 41,
   "id": "4f7e0b53",
   "metadata": {},
   "outputs": [
    {
     "name": "stdout",
     "output_type": "stream",
     "text": [
      "['Name', 'Location', 'Mileage', 'New_Price']\n"
     ]
    }
   ],
   "source": [
    "x_cols = []\n",
    "for colname in df.columns[df.dtypes == 'object']:\n",
    "    if df[colname].str.contains('k').any():\n",
    "        x_cols.append(colname)\n",
    "print(x_cols)"
   ]
  },
  {
   "cell_type": "code",
   "execution_count": 56,
   "id": "d975a8c9",
   "metadata": {},
   "outputs": [
    {
     "name": "stdout",
     "output_type": "stream",
     "text": [
      "['Power']\n"
     ]
    }
   ],
   "source": [
    "x_cols = []\n",
    "for colname in df.columns[df.dtypes == 'object']:\n",
    "    if df[colname].str.contains('bhp').any():\n",
    "        x_cols.append(colname)\n",
    "print(x_cols)"
   ]
  },
  {
   "cell_type": "code",
   "execution_count": 57,
   "id": "70f773a2",
   "metadata": {},
   "outputs": [
    {
     "name": "stdout",
     "output_type": "stream",
     "text": [
      "['Name', 'Engine']\n"
     ]
    }
   ],
   "source": [
    "x_cols = []\n",
    "for colname in df.columns[df.dtypes == 'object']:\n",
    "    if df[colname].str.contains('CC').any():\n",
    "        x_cols.append(colname)\n",
    "print(x_cols)"
   ]
  },
  {
   "cell_type": "code",
   "execution_count": null,
   "id": "f2699b26",
   "metadata": {},
   "outputs": [],
   "source": [
    "# I was trying to get a sense of what columns have letters and numbers"
   ]
  },
  {
   "cell_type": "code",
   "execution_count": 76,
   "id": "f03d99b5",
   "metadata": {},
   "outputs": [
    {
     "data": {
      "text/plain": [
       "Diesel      3852\n",
       "Petrol      3325\n",
       "CNG           62\n",
       "LPG           12\n",
       "Electric       2\n",
       "Name: Fuel_Type, dtype: int64"
      ]
     },
     "execution_count": 76,
     "metadata": {},
     "output_type": "execute_result"
    }
   ],
   "source": [
    "df['Fuel_Type'].value_counts()\n",
    "# We have 5 different fuel types, might come in handy"
   ]
  },
  {
   "cell_type": "code",
   "execution_count": 110,
   "id": "b67db630",
   "metadata": {},
   "outputs": [
    {
     "data": {
      "text/plain": [
       "Mumbai        949\n",
       "Hyderabad     876\n",
       "Kochi         772\n",
       "Coimbatore    772\n",
       "Pune          765\n",
       "Delhi         660\n",
       "Kolkata       654\n",
       "Chennai       591\n",
       "Jaipur        499\n",
       "Bangalore     440\n",
       "Ahmedabad     275\n",
       "Name: Location, dtype: int64"
      ]
     },
     "execution_count": 110,
     "metadata": {},
     "output_type": "execute_result"
    }
   ],
   "source": [
    "df['Location'].value_counts()"
   ]
  },
  {
   "cell_type": "code",
   "execution_count": 93,
   "id": "c4ff7494",
   "metadata": {},
   "outputs": [],
   "source": [
    "# I count like 11 locations, but its good to have it returned too"
   ]
  },
  {
   "cell_type": "code",
   "execution_count": 120,
   "id": "16134ff0",
   "metadata": {},
   "outputs": [
    {
     "data": {
      "text/plain": [
       "823"
      ]
     },
     "execution_count": 120,
     "metadata": {},
     "output_type": "execute_result"
    }
   ],
   "source": [
    "df.value_counts().sum()"
   ]
  },
  {
   "cell_type": "code",
   "execution_count": 122,
   "id": "f49e58f4",
   "metadata": {},
   "outputs": [
    {
     "data": {
      "text/html": [
       "<div>\n",
       "<style scoped>\n",
       "    .dataframe tbody tr th:only-of-type {\n",
       "        vertical-align: middle;\n",
       "    }\n",
       "\n",
       "    .dataframe tbody tr th {\n",
       "        vertical-align: top;\n",
       "    }\n",
       "\n",
       "    .dataframe thead th {\n",
       "        text-align: right;\n",
       "    }\n",
       "</style>\n",
       "<table border=\"1\" class=\"dataframe\">\n",
       "  <thead>\n",
       "    <tr style=\"text-align: right;\">\n",
       "      <th></th>\n",
       "      <th>S.No.</th>\n",
       "      <th>Name</th>\n",
       "      <th>Year</th>\n",
       "      <th>Kilometers_Driven</th>\n",
       "      <th>Fuel_Type</th>\n",
       "      <th>Transmission</th>\n",
       "      <th>Owner_Type</th>\n",
       "      <th>Mileage</th>\n",
       "      <th>Engine</th>\n",
       "      <th>Power</th>\n",
       "      <th>Seats</th>\n",
       "      <th>New_Price</th>\n",
       "      <th>Price</th>\n",
       "    </tr>\n",
       "    <tr>\n",
       "      <th>Location</th>\n",
       "      <th></th>\n",
       "      <th></th>\n",
       "      <th></th>\n",
       "      <th></th>\n",
       "      <th></th>\n",
       "      <th></th>\n",
       "      <th></th>\n",
       "      <th></th>\n",
       "      <th></th>\n",
       "      <th></th>\n",
       "      <th></th>\n",
       "      <th></th>\n",
       "      <th></th>\n",
       "    </tr>\n",
       "  </thead>\n",
       "  <tbody>\n",
       "    <tr>\n",
       "      <th>Ahmedabad</th>\n",
       "      <td>275</td>\n",
       "      <td>275</td>\n",
       "      <td>275</td>\n",
       "      <td>275</td>\n",
       "      <td>275</td>\n",
       "      <td>275</td>\n",
       "      <td>275</td>\n",
       "      <td>275</td>\n",
       "      <td>274</td>\n",
       "      <td>271</td>\n",
       "      <td>274</td>\n",
       "      <td>45</td>\n",
       "      <td>224</td>\n",
       "    </tr>\n",
       "    <tr>\n",
       "      <th>Bangalore</th>\n",
       "      <td>440</td>\n",
       "      <td>440</td>\n",
       "      <td>440</td>\n",
       "      <td>440</td>\n",
       "      <td>440</td>\n",
       "      <td>440</td>\n",
       "      <td>440</td>\n",
       "      <td>440</td>\n",
       "      <td>432</td>\n",
       "      <td>423</td>\n",
       "      <td>431</td>\n",
       "      <td>39</td>\n",
       "      <td>358</td>\n",
       "    </tr>\n",
       "    <tr>\n",
       "      <th>Chennai</th>\n",
       "      <td>591</td>\n",
       "      <td>591</td>\n",
       "      <td>591</td>\n",
       "      <td>591</td>\n",
       "      <td>591</td>\n",
       "      <td>591</td>\n",
       "      <td>591</td>\n",
       "      <td>590</td>\n",
       "      <td>589</td>\n",
       "      <td>570</td>\n",
       "      <td>587</td>\n",
       "      <td>62</td>\n",
       "      <td>494</td>\n",
       "    </tr>\n",
       "    <tr>\n",
       "      <th>Coimbatore</th>\n",
       "      <td>772</td>\n",
       "      <td>772</td>\n",
       "      <td>772</td>\n",
       "      <td>772</td>\n",
       "      <td>772</td>\n",
       "      <td>772</td>\n",
       "      <td>772</td>\n",
       "      <td>772</td>\n",
       "      <td>770</td>\n",
       "      <td>762</td>\n",
       "      <td>770</td>\n",
       "      <td>163</td>\n",
       "      <td>636</td>\n",
       "    </tr>\n",
       "    <tr>\n",
       "      <th>Delhi</th>\n",
       "      <td>660</td>\n",
       "      <td>660</td>\n",
       "      <td>660</td>\n",
       "      <td>660</td>\n",
       "      <td>660</td>\n",
       "      <td>660</td>\n",
       "      <td>660</td>\n",
       "      <td>660</td>\n",
       "      <td>655</td>\n",
       "      <td>650</td>\n",
       "      <td>655</td>\n",
       "      <td>72</td>\n",
       "      <td>554</td>\n",
       "    </tr>\n",
       "    <tr>\n",
       "      <th>Hyderabad</th>\n",
       "      <td>876</td>\n",
       "      <td>876</td>\n",
       "      <td>876</td>\n",
       "      <td>876</td>\n",
       "      <td>876</td>\n",
       "      <td>876</td>\n",
       "      <td>876</td>\n",
       "      <td>876</td>\n",
       "      <td>875</td>\n",
       "      <td>850</td>\n",
       "      <td>875</td>\n",
       "      <td>97</td>\n",
       "      <td>742</td>\n",
       "    </tr>\n",
       "    <tr>\n",
       "      <th>Jaipur</th>\n",
       "      <td>499</td>\n",
       "      <td>499</td>\n",
       "      <td>499</td>\n",
       "      <td>499</td>\n",
       "      <td>499</td>\n",
       "      <td>499</td>\n",
       "      <td>499</td>\n",
       "      <td>499</td>\n",
       "      <td>496</td>\n",
       "      <td>485</td>\n",
       "      <td>495</td>\n",
       "      <td>52</td>\n",
       "      <td>413</td>\n",
       "    </tr>\n",
       "    <tr>\n",
       "      <th>Kochi</th>\n",
       "      <td>772</td>\n",
       "      <td>772</td>\n",
       "      <td>772</td>\n",
       "      <td>772</td>\n",
       "      <td>772</td>\n",
       "      <td>772</td>\n",
       "      <td>772</td>\n",
       "      <td>772</td>\n",
       "      <td>768</td>\n",
       "      <td>765</td>\n",
       "      <td>767</td>\n",
       "      <td>167</td>\n",
       "      <td>651</td>\n",
       "    </tr>\n",
       "    <tr>\n",
       "      <th>Kolkata</th>\n",
       "      <td>654</td>\n",
       "      <td>654</td>\n",
       "      <td>654</td>\n",
       "      <td>654</td>\n",
       "      <td>654</td>\n",
       "      <td>654</td>\n",
       "      <td>654</td>\n",
       "      <td>654</td>\n",
       "      <td>648</td>\n",
       "      <td>633</td>\n",
       "      <td>647</td>\n",
       "      <td>72</td>\n",
       "      <td>535</td>\n",
       "    </tr>\n",
       "    <tr>\n",
       "      <th>Mumbai</th>\n",
       "      <td>949</td>\n",
       "      <td>949</td>\n",
       "      <td>949</td>\n",
       "      <td>949</td>\n",
       "      <td>949</td>\n",
       "      <td>949</td>\n",
       "      <td>949</td>\n",
       "      <td>948</td>\n",
       "      <td>945</td>\n",
       "      <td>935</td>\n",
       "      <td>944</td>\n",
       "      <td>165</td>\n",
       "      <td>790</td>\n",
       "    </tr>\n",
       "    <tr>\n",
       "      <th>Pune</th>\n",
       "      <td>765</td>\n",
       "      <td>765</td>\n",
       "      <td>765</td>\n",
       "      <td>765</td>\n",
       "      <td>765</td>\n",
       "      <td>765</td>\n",
       "      <td>765</td>\n",
       "      <td>765</td>\n",
       "      <td>755</td>\n",
       "      <td>734</td>\n",
       "      <td>755</td>\n",
       "      <td>72</td>\n",
       "      <td>622</td>\n",
       "    </tr>\n",
       "  </tbody>\n",
       "</table>\n",
       "</div>"
      ],
      "text/plain": [
       "            S.No.  Name  Year  Kilometers_Driven  Fuel_Type  Transmission  \\\n",
       "Location                                                                    \n",
       "Ahmedabad     275   275   275                275        275           275   \n",
       "Bangalore     440   440   440                440        440           440   \n",
       "Chennai       591   591   591                591        591           591   \n",
       "Coimbatore    772   772   772                772        772           772   \n",
       "Delhi         660   660   660                660        660           660   \n",
       "Hyderabad     876   876   876                876        876           876   \n",
       "Jaipur        499   499   499                499        499           499   \n",
       "Kochi         772   772   772                772        772           772   \n",
       "Kolkata       654   654   654                654        654           654   \n",
       "Mumbai        949   949   949                949        949           949   \n",
       "Pune          765   765   765                765        765           765   \n",
       "\n",
       "            Owner_Type  Mileage  Engine  Power  Seats  New_Price  Price  \n",
       "Location                                                                 \n",
       "Ahmedabad          275      275     274    271    274         45    224  \n",
       "Bangalore          440      440     432    423    431         39    358  \n",
       "Chennai            591      590     589    570    587         62    494  \n",
       "Coimbatore         772      772     770    762    770        163    636  \n",
       "Delhi              660      660     655    650    655         72    554  \n",
       "Hyderabad          876      876     875    850    875         97    742  \n",
       "Jaipur             499      499     496    485    495         52    413  \n",
       "Kochi              772      772     768    765    767        167    651  \n",
       "Kolkata            654      654     648    633    647         72    535  \n",
       "Mumbai             949      948     945    935    944        165    790  \n",
       "Pune               765      765     755    734    755         72    622  "
      ]
     },
     "execution_count": 122,
     "metadata": {},
     "output_type": "execute_result"
    }
   ],
   "source": [
    "df.groupby('Location').count()"
   ]
  },
  {
   "cell_type": "code",
   "execution_count": 123,
   "id": "cff55cc6",
   "metadata": {},
   "outputs": [],
   "source": [
    "# Still 11 locations\n",
    "# Trying to get it to return just the number 11"
   ]
  },
  {
   "cell_type": "code",
   "execution_count": 131,
   "id": "627a1d62",
   "metadata": {},
   "outputs": [
    {
     "data": {
      "text/plain": [
       "11"
      ]
     },
     "execution_count": 131,
     "metadata": {},
     "output_type": "execute_result"
    }
   ],
   "source": [
    "df.Location.nunique(dropna = True)"
   ]
  },
  {
   "cell_type": "code",
   "execution_count": null,
   "id": "1139cd45",
   "metadata": {},
   "outputs": [],
   "source": [
    "# Got it!"
   ]
  },
  {
   "cell_type": "code",
   "execution_count": 175,
   "id": "6010a791",
   "metadata": {},
   "outputs": [
    {
     "data": {
      "text/plain": [
       "2013.3653660554253"
      ]
     },
     "execution_count": 175,
     "metadata": {},
     "output_type": "execute_result"
    }
   ],
   "source": [
    "df['Year'].mean()"
   ]
  },
  {
   "cell_type": "code",
   "execution_count": 187,
   "id": "1456bf30",
   "metadata": {
    "scrolled": true
   },
   "outputs": [],
   "source": [
    "# The average age of cars is about 8 years old, might be useful data to know"
   ]
  },
  {
   "cell_type": "code",
   "execution_count": 17,
   "id": "2a16125c",
   "metadata": {},
   "outputs": [],
   "source": [
    "from sklearn.preprocessing import StandardScaler, MinMaxScaler"
   ]
  },
  {
   "cell_type": "code",
   "execution_count": 19,
   "id": "a73cb16a",
   "metadata": {},
   "outputs": [
    {
     "data": {
      "image/png": "[encoded data removed]",
      "text/plain": [
       "<Figure size 432x288 with 1 Axes>"
      ]
     },
     "metadata": {
      "needs_background": "light"
     },
     "output_type": "display_data"
    },
    {
     "data": {
      "image/png": "[encoded data removed]",
      "text/plain": [
       "<Figure size 432x288 with 1 Axes>"
      ]
     },
     "metadata": {
      "needs_background": "light"
     },
     "output_type": "display_data"
    }
   ],
   "source": [
    "std_scaler = StandardScaler()\n",
    "\n",
    "df['Year'].hist(bins=20)\n",
    "plt.title('Year before z transformation')\n",
    "plt.show()\n",
    "\n",
    "df['Year_z_std'] = std_scaler.fit_transform(df[['Year']])\n",
    "df['Year_z_std'].hist(bins=20)\n",
    "plt.title('Year after z transformation')\n",
    "plt.show()"
   ]
  },
  {
   "cell_type": "code",
   "execution_count": null,
   "id": "52c633e1",
   "metadata": {},
   "outputs": [],
   "source": [
    "# The data for year is skewed"
   ]
  },
  {
   "cell_type": "code",
   "execution_count": 20,
   "id": "1fbe9fa4",
   "metadata": {},
   "outputs": [
    {
     "name": "stdout",
     "output_type": "stream",
     "text": [
      "\n",
      "df['Year'].skew() returns:\n",
      "-0.8398161508976376\n"
     ]
    }
   ],
   "source": [
    "print(\"\\ndf['Year'].skew() returns:\")\n",
    "print(df[\"Year\"].skew())"
   ]
  },
  {
   "cell_type": "code",
   "execution_count": 24,
   "id": "55b3be4e",
   "metadata": {},
   "outputs": [
    {
     "data": {
      "image/png": "[encoded data removed]",
      "text/plain": [
       "<Figure size 432x288 with 1 Axes>"
      ]
     },
     "metadata": {
      "needs_background": "light"
     },
     "output_type": "display_data"
    }
   ],
   "source": [
    "df.plot.scatter(x = 'Year', y = 'Price', s = 100);"
   ]
  },
  {
   "cell_type": "code",
   "execution_count": 22,
   "id": "f5dc043b",
   "metadata": {},
   "outputs": [],
   "source": [
    "# Newer cars cost a lot more"
   ]
  },
  {
   "cell_type": "code",
   "execution_count": 23,
   "id": "057f3922",
   "metadata": {},
   "outputs": [],
   "source": [
    "# Suggestion is for the business to focus on buying cars between 2006 and 2011\n",
    "# So they spend less money aquiring those vehicles"
   ]
  },
  {
   "cell_type": "code",
   "execution_count": 25,
   "id": "1a685040",
   "metadata": {},
   "outputs": [
    {
     "data": {
      "image/png": "[encoded data removed]",
      "text/plain": [
       "<Figure size 432x288 with 1 Axes>"
      ]
     },
     "metadata": {
      "needs_background": "light"
     },
     "output_type": "display_data"
    }
   ],
   "source": [
    "df.plot.scatter(x = 'Year', y = 'Location', s = 100);"
   ]
  },
  {
   "cell_type": "code",
   "execution_count": 26,
   "id": "9f052d44",
   "metadata": {},
   "outputs": [],
   "source": [
    "# The oldest cars come from Pune, followed by Mumbai, Hyderabad and Jaipur"
   ]
  },
  {
   "cell_type": "code",
   "execution_count": 27,
   "id": "dc5b5609",
   "metadata": {},
   "outputs": [
    {
     "data": {
      "image/png": "[encoded data removed]",
      "text/plain": [
       "<Figure size 432x288 with 1 Axes>"
      ]
     },
     "metadata": {
      "needs_background": "light"
     },
     "output_type": "display_data"
    }
   ],
   "source": [
    "df.plot.scatter(x = 'Year', y = 'Kilometers_Driven', s = 100);"
   ]
  },
  {
   "cell_type": "code",
   "execution_count": 28,
   "id": "1e798998",
   "metadata": {},
   "outputs": [],
   "source": [
    "# It looks like 2013 cars have the most kilometers driven, even amongst oldere cars\n",
    "# Maybe the business should try to exclude cars from 2013 to maximize profits"
   ]
  },
  {
   "cell_type": "code",
   "execution_count": 36,
   "id": "238107ea",
   "metadata": {},
   "outputs": [
    {
     "data": {
      "text/plain": [
       "<AxesSubplot:ylabel='Frequency'>"
      ]
     },
     "execution_count": 36,
     "metadata": {},
     "output_type": "execute_result"
    },
    {
     "data": {
      "image/png": "[encoded data removed]",
      "text/plain": [
       "<Figure size 432x288 with 1 Axes>"
      ]
     },
     "metadata": {
      "needs_background": "light"
     },
     "output_type": "display_data"
    }
   ],
   "source": [
    "df['Year'].plot(kind='hist')"
   ]
  },
  {
   "cell_type": "code",
   "execution_count": 38,
   "id": "521ec4fb",
   "metadata": {},
   "outputs": [],
   "source": [
    "# Using seaborn we can get a better visualization"
   ]
  },
  {
   "cell_type": "code",
   "execution_count": 40,
   "id": "589b818a",
   "metadata": {},
   "outputs": [
    {
     "data": {
      "text/plain": [
       "<seaborn.axisgrid.FacetGrid at 0x12e91100fd0>"
      ]
     },
     "execution_count": 40,
     "metadata": {},
     "output_type": "execute_result"
    },
    {
     "data": {
      "image/png": "[encoded data removed]",
      "text/plain": [
       "<Figure size 360x360 with 1 Axes>"
      ]
     },
     "metadata": {
      "needs_background": "light"
     },
     "output_type": "display_data"
    }
   ],
   "source": [
    "sns.displot(df['Year'])"
   ]
  },
  {
   "cell_type": "code",
   "execution_count": 41,
   "id": "9030275f",
   "metadata": {},
   "outputs": [],
   "source": [
    "# 2014 and 2015 have the most car counts\n",
    "# Based on the data so far we can guess that\n",
    "# Maybe the business should buy cars older than 2014 models, excluding 2013 models, to even out the distribution"
   ]
  },
  {
   "cell_type": "code",
   "execution_count": 42,
   "id": "1fc0d71b",
   "metadata": {},
   "outputs": [
    {
     "data": {
      "text/plain": [
       "<seaborn.axisgrid.FacetGrid at 0x12e91a43d90>"
      ]
     },
     "execution_count": 42,
     "metadata": {},
     "output_type": "execute_result"
    },
    {
     "data": {
      "image/png": "[encoded data removed]",
      "text/plain": [
       "<Figure size 360x360 with 1 Axes>"
      ]
     },
     "metadata": {
      "needs_background": "light"
     },
     "output_type": "display_data"
    }
   ],
   "source": [
    "sns.displot(df['Price'])"
   ]
  },
  {
   "cell_type": "code",
   "execution_count": 43,
   "id": "5e4a2b6e",
   "metadata": {},
   "outputs": [],
   "source": [
    "# If they bought 2013 models and below they would likely have less expense and save money"
   ]
  },
  {
   "cell_type": "code",
   "execution_count": 56,
   "id": "fe308b51",
   "metadata": {},
   "outputs": [],
   "source": [
    "from sklearn.impute import SimpleImputer"
   ]
  },
  {
   "cell_type": "code",
   "execution_count": 63,
   "id": "9188968b",
   "metadata": {},
   "outputs": [
    {
     "data": {
      "text/plain": [
       "S.No.                   0\n",
       "Name                    0\n",
       "Location                0\n",
       "Year                    0\n",
       "Kilometers_Driven       0\n",
       "Fuel_Type               0\n",
       "Transmission            0\n",
       "Owner_Type              0\n",
       "Mileage                 2\n",
       "Engine                 46\n",
       "Power                 175\n",
       "Seats                  53\n",
       "New_Price            6247\n",
       "Price                1234\n",
       "Year_z_std              0\n",
       "dtype: int64"
      ]
     },
     "execution_count": 63,
     "metadata": {},
     "output_type": "execute_result"
    }
   ],
   "source": [
    "df.isnull().sum()"
   ]
  },
  {
   "cell_type": "code",
   "execution_count": 65,
   "id": "e8f53197",
   "metadata": {},
   "outputs": [
    {
     "data": {
      "text/plain": [
       "1    5232\n",
       "2    1125\n",
       "0     823\n",
       "4      36\n",
       "3      27\n",
       "5      10\n",
       "dtype: int64"
      ]
     },
     "execution_count": 65,
     "metadata": {},
     "output_type": "execute_result"
    }
   ],
   "source": [
    "df.isnull().sum(axis=1).value_counts()"
   ]
  },
  {
   "cell_type": "code",
   "execution_count": 67,
   "id": "cc78be35",
   "metadata": {},
   "outputs": [],
   "source": [
    "df.drop(['New_Price'], axis=1, inplace=True)"
   ]
  },
  {
   "cell_type": "code",
   "execution_count": 68,
   "id": "1bf26b62",
   "metadata": {},
   "outputs": [
    {
     "data": {
      "text/plain": [
       "0    5872\n",
       "1    1308\n",
       "3      36\n",
       "2      27\n",
       "4      10\n",
       "dtype: int64"
      ]
     },
     "execution_count": 68,
     "metadata": {},
     "output_type": "execute_result"
    }
   ],
   "source": [
    "num_missing = df.isnull().sum(axis=1)\n",
    "num_missing.value_counts()"
   ]
  },
  {
   "cell_type": "code",
   "execution_count": 69,
   "id": "681fdb1d",
   "metadata": {},
   "outputs": [
    {
     "data": {
      "text/html": [
       "<div>\n",
       "<style scoped>\n",
       "    .dataframe tbody tr th:only-of-type {\n",
       "        vertical-align: middle;\n",
       "    }\n",
       "\n",
       "    .dataframe tbody tr th {\n",
       "        vertical-align: top;\n",
       "    }\n",
       "\n",
       "    .dataframe thead th {\n",
       "        text-align: right;\n",
       "    }\n",
       "</style>\n",
       "<table border=\"1\" class=\"dataframe\">\n",
       "  <thead>\n",
       "    <tr style=\"text-align: right;\">\n",
       "      <th></th>\n",
       "      <th>S.No.</th>\n",
       "      <th>Name</th>\n",
       "      <th>Location</th>\n",
       "      <th>Year</th>\n",
       "      <th>Kilometers_Driven</th>\n",
       "      <th>Fuel_Type</th>\n",
       "      <th>Transmission</th>\n",
       "      <th>Owner_Type</th>\n",
       "      <th>Mileage</th>\n",
       "      <th>Engine</th>\n",
       "      <th>Power</th>\n",
       "      <th>Seats</th>\n",
       "      <th>Price</th>\n",
       "      <th>Year_z_std</th>\n",
       "    </tr>\n",
       "  </thead>\n",
       "  <tbody>\n",
       "    <tr>\n",
       "      <th>6439</th>\n",
       "      <td>6439</td>\n",
       "      <td>Hyundai Santro GLS I - Euro II</td>\n",
       "      <td>Bangalore</td>\n",
       "      <td>2011</td>\n",
       "      <td>43189</td>\n",
       "      <td>Petrol</td>\n",
       "      <td>Manual</td>\n",
       "      <td>First</td>\n",
       "      <td>0.0 kmpl</td>\n",
       "      <td>999 CC</td>\n",
       "      <td>NaN</td>\n",
       "      <td>5.0</td>\n",
       "      <td>NaN</td>\n",
       "      <td>-0.726866</td>\n",
       "    </tr>\n",
       "    <tr>\n",
       "      <th>6723</th>\n",
       "      <td>6723</td>\n",
       "      <td>Ford Fiesta 1.4 SXi TDCi</td>\n",
       "      <td>Kolkata</td>\n",
       "      <td>2009</td>\n",
       "      <td>39408</td>\n",
       "      <td>Diesel</td>\n",
       "      <td>Manual</td>\n",
       "      <td>First</td>\n",
       "      <td>17.8 kmpl</td>\n",
       "      <td>1399 CC</td>\n",
       "      <td>NaN</td>\n",
       "      <td>5.0</td>\n",
       "      <td>NaN</td>\n",
       "      <td>-1.341457</td>\n",
       "    </tr>\n",
       "    <tr>\n",
       "      <th>6022</th>\n",
       "      <td>6022</td>\n",
       "      <td>Toyota Etios Liva GD</td>\n",
       "      <td>Hyderabad</td>\n",
       "      <td>2012</td>\n",
       "      <td>139000</td>\n",
       "      <td>Diesel</td>\n",
       "      <td>Manual</td>\n",
       "      <td>First</td>\n",
       "      <td>23.59 kmpl</td>\n",
       "      <td>1364 CC</td>\n",
       "      <td>NaN</td>\n",
       "      <td>5.0</td>\n",
       "      <td>NaN</td>\n",
       "      <td>-0.419571</td>\n",
       "    </tr>\n",
       "    <tr>\n",
       "      <th>6625</th>\n",
       "      <td>6625</td>\n",
       "      <td>Maruti Swift VDI BSIV</td>\n",
       "      <td>Kolkata</td>\n",
       "      <td>2012</td>\n",
       "      <td>72000</td>\n",
       "      <td>Diesel</td>\n",
       "      <td>Manual</td>\n",
       "      <td>First</td>\n",
       "      <td>17.8 kmpl</td>\n",
       "      <td>1248 CC</td>\n",
       "      <td>NaN</td>\n",
       "      <td>5.0</td>\n",
       "      <td>NaN</td>\n",
       "      <td>-0.419571</td>\n",
       "    </tr>\n",
       "    <tr>\n",
       "      <th>5893</th>\n",
       "      <td>5893</td>\n",
       "      <td>Maruti Estilo LXI</td>\n",
       "      <td>Chennai</td>\n",
       "      <td>2008</td>\n",
       "      <td>51000</td>\n",
       "      <td>Petrol</td>\n",
       "      <td>Manual</td>\n",
       "      <td>Second</td>\n",
       "      <td>19.5 kmpl</td>\n",
       "      <td>1061 CC</td>\n",
       "      <td>NaN</td>\n",
       "      <td>NaN</td>\n",
       "      <td>1.75</td>\n",
       "      <td>-1.648753</td>\n",
       "    </tr>\n",
       "  </tbody>\n",
       "</table>\n",
       "</div>"
      ],
      "text/plain": [
       "      S.No.                            Name   Location  Year  \\\n",
       "6439   6439  Hyundai Santro GLS I - Euro II  Bangalore  2011   \n",
       "6723   6723        Ford Fiesta 1.4 SXi TDCi    Kolkata  2009   \n",
       "6022   6022            Toyota Etios Liva GD  Hyderabad  2012   \n",
       "6625   6625           Maruti Swift VDI BSIV    Kolkata  2012   \n",
       "5893   5893               Maruti Estilo LXI    Chennai  2008   \n",
       "\n",
       "      Kilometers_Driven Fuel_Type Transmission Owner_Type     Mileage  \\\n",
       "6439              43189    Petrol       Manual      First    0.0 kmpl   \n",
       "6723              39408    Diesel       Manual      First   17.8 kmpl   \n",
       "6022             139000    Diesel       Manual      First  23.59 kmpl   \n",
       "6625              72000    Diesel       Manual      First   17.8 kmpl   \n",
       "5893              51000    Petrol       Manual     Second   19.5 kmpl   \n",
       "\n",
       "       Engine Power  Seats  Price  Year_z_std  \n",
       "6439   999 CC   NaN    5.0    NaN   -0.726866  \n",
       "6723  1399 CC   NaN    5.0    NaN   -1.341457  \n",
       "6022  1364 CC   NaN    5.0    NaN   -0.419571  \n",
       "6625  1248 CC   NaN    5.0    NaN   -0.419571  \n",
       "5893  1061 CC   NaN    NaN   1.75   -1.648753  "
      ]
     },
     "execution_count": 69,
     "metadata": {},
     "output_type": "execute_result"
    }
   ],
   "source": [
    "df[num_missing == 2].sample(n=5)"
   ]
  },
  {
   "cell_type": "code",
   "execution_count": 70,
   "id": "2a3810d5",
   "metadata": {},
   "outputs": [
    {
     "data": {
      "text/html": [
       "<div>\n",
       "<style scoped>\n",
       "    .dataframe tbody tr th:only-of-type {\n",
       "        vertical-align: middle;\n",
       "    }\n",
       "\n",
       "    .dataframe tbody tr th {\n",
       "        vertical-align: top;\n",
       "    }\n",
       "\n",
       "    .dataframe thead th {\n",
       "        text-align: right;\n",
       "    }\n",
       "</style>\n",
       "<table border=\"1\" class=\"dataframe\">\n",
       "  <thead>\n",
       "    <tr style=\"text-align: right;\">\n",
       "      <th></th>\n",
       "      <th>S.No.</th>\n",
       "      <th>Name</th>\n",
       "      <th>Location</th>\n",
       "      <th>Year</th>\n",
       "      <th>Kilometers_Driven</th>\n",
       "      <th>Fuel_Type</th>\n",
       "      <th>Transmission</th>\n",
       "      <th>Owner_Type</th>\n",
       "      <th>Mileage</th>\n",
       "      <th>Engine</th>\n",
       "      <th>Power</th>\n",
       "      <th>Seats</th>\n",
       "      <th>Price</th>\n",
       "      <th>Year_z_std</th>\n",
       "    </tr>\n",
       "  </thead>\n",
       "  <tbody>\n",
       "    <tr>\n",
       "      <th>4712</th>\n",
       "      <td>4712</td>\n",
       "      <td>Hyundai Santro Xing XG</td>\n",
       "      <td>Pune</td>\n",
       "      <td>2003</td>\n",
       "      <td>80000</td>\n",
       "      <td>Petrol</td>\n",
       "      <td>Manual</td>\n",
       "      <td>Second</td>\n",
       "      <td>17.0 kmpl</td>\n",
       "      <td>NaN</td>\n",
       "      <td>NaN</td>\n",
       "      <td>NaN</td>\n",
       "      <td>0.90</td>\n",
       "      <td>-3.185231</td>\n",
       "    </tr>\n",
       "    <tr>\n",
       "      <th>4604</th>\n",
       "      <td>4604</td>\n",
       "      <td>Honda Jazz Select Edition</td>\n",
       "      <td>Pune</td>\n",
       "      <td>2011</td>\n",
       "      <td>98000</td>\n",
       "      <td>Petrol</td>\n",
       "      <td>Manual</td>\n",
       "      <td>First</td>\n",
       "      <td>16.7 kmpl</td>\n",
       "      <td>NaN</td>\n",
       "      <td>NaN</td>\n",
       "      <td>NaN</td>\n",
       "      <td>3.15</td>\n",
       "      <td>-0.726866</td>\n",
       "    </tr>\n",
       "    <tr>\n",
       "      <th>2335</th>\n",
       "      <td>2335</td>\n",
       "      <td>Maruti Swift 1.3 VXi</td>\n",
       "      <td>Mumbai</td>\n",
       "      <td>2007</td>\n",
       "      <td>55000</td>\n",
       "      <td>Petrol</td>\n",
       "      <td>Manual</td>\n",
       "      <td>Second</td>\n",
       "      <td>16.1 kmpl</td>\n",
       "      <td>NaN</td>\n",
       "      <td>NaN</td>\n",
       "      <td>NaN</td>\n",
       "      <td>1.75</td>\n",
       "      <td>-1.956048</td>\n",
       "    </tr>\n",
       "    <tr>\n",
       "      <th>4952</th>\n",
       "      <td>4952</td>\n",
       "      <td>Fiat Punto 1.4 Emotion</td>\n",
       "      <td>Kolkata</td>\n",
       "      <td>2010</td>\n",
       "      <td>47000</td>\n",
       "      <td>Petrol</td>\n",
       "      <td>Manual</td>\n",
       "      <td>First</td>\n",
       "      <td>14.6 kmpl</td>\n",
       "      <td>NaN</td>\n",
       "      <td>NaN</td>\n",
       "      <td>NaN</td>\n",
       "      <td>1.49</td>\n",
       "      <td>-1.034162</td>\n",
       "    </tr>\n",
       "    <tr>\n",
       "      <th>2668</th>\n",
       "      <td>2668</td>\n",
       "      <td>Maruti Swift 1.3 VXi</td>\n",
       "      <td>Kolkata</td>\n",
       "      <td>2014</td>\n",
       "      <td>32986</td>\n",
       "      <td>Petrol</td>\n",
       "      <td>Manual</td>\n",
       "      <td>First</td>\n",
       "      <td>16.1 kmpl</td>\n",
       "      <td>NaN</td>\n",
       "      <td>NaN</td>\n",
       "      <td>NaN</td>\n",
       "      <td>4.24</td>\n",
       "      <td>0.195020</td>\n",
       "    </tr>\n",
       "  </tbody>\n",
       "</table>\n",
       "</div>"
      ],
      "text/plain": [
       "      S.No.                       Name Location  Year  Kilometers_Driven  \\\n",
       "4712   4712     Hyundai Santro Xing XG     Pune  2003              80000   \n",
       "4604   4604  Honda Jazz Select Edition     Pune  2011              98000   \n",
       "2335   2335       Maruti Swift 1.3 VXi   Mumbai  2007              55000   \n",
       "4952   4952     Fiat Punto 1.4 Emotion  Kolkata  2010              47000   \n",
       "2668   2668       Maruti Swift 1.3 VXi  Kolkata  2014              32986   \n",
       "\n",
       "     Fuel_Type Transmission Owner_Type    Mileage Engine Power  Seats  Price  \\\n",
       "4712    Petrol       Manual     Second  17.0 kmpl    NaN   NaN    NaN   0.90   \n",
       "4604    Petrol       Manual      First  16.7 kmpl    NaN   NaN    NaN   3.15   \n",
       "2335    Petrol       Manual     Second  16.1 kmpl    NaN   NaN    NaN   1.75   \n",
       "4952    Petrol       Manual      First  14.6 kmpl    NaN   NaN    NaN   1.49   \n",
       "2668    Petrol       Manual      First  16.1 kmpl    NaN   NaN    NaN   4.24   \n",
       "\n",
       "      Year_z_std  \n",
       "4712   -3.185231  \n",
       "4604   -0.726866  \n",
       "2335   -1.956048  \n",
       "4952   -1.034162  \n",
       "2668    0.195020  "
      ]
     },
     "execution_count": 70,
     "metadata": {},
     "output_type": "execute_result"
    }
   ],
   "source": [
    "df[num_missing == 3].sample(n=5)"
   ]
  },
  {
   "cell_type": "code",
   "execution_count": 71,
   "id": "9f113408",
   "metadata": {},
   "outputs": [
    {
     "name": "stdout",
     "output_type": "stream",
     "text": [
      "For the rows with exactly (n) missing values, NAs are found in:\n",
      "Mileage       2\n",
      "Power       103\n",
      "Seats         2\n",
      "Price      1201\n",
      "dtype: int64\n",
      "\n",
      "\n",
      "\n",
      "For the rows with exactly (n) missing values, NAs are found in:\n",
      "Power    26\n",
      "Seats     5\n",
      "Price    23\n",
      "dtype: int64\n",
      "\n",
      "\n",
      "\n",
      "For the rows with exactly (n) missing values, NAs are found in:\n",
      "Engine    36\n",
      "Power     36\n",
      "Seats     36\n",
      "dtype: int64\n",
      "\n",
      "\n",
      "\n",
      "For the rows with exactly (n) missing values, NAs are found in:\n",
      "Engine    10\n",
      "Power     10\n",
      "Seats     10\n",
      "Price     10\n",
      "dtype: int64\n",
      "\n",
      "\n",
      "\n"
     ]
    }
   ],
   "source": [
    "for n in num_missing.value_counts().sort_index().index:\n",
    "    if n > 0:\n",
    "        print(f'For the rows with exactly (n) missing values, NAs are found in:')\n",
    "        n_miss_per_col = df[num_missing == n].isnull().sum()\n",
    "        print(n_miss_per_col[n_miss_per_col > 0])\n",
    "        print('\\n\\n')"
   ]
  },
  {
   "cell_type": "code",
   "execution_count": 77,
   "id": "09aa8743",
   "metadata": {},
   "outputs": [
    {
     "data": {
      "image/png": "[encoded data removed]",
      "text/plain": [
       "<Figure size 432x288 with 1 Axes>"
      ]
     },
     "metadata": {
      "needs_background": "light"
     },
     "output_type": "display_data"
    }
   ],
   "source": [
    "def z_transform(x):\n",
    "    return (x - np.mean(x)) / np.std(x)\n",
    "\n",
    "np.random.seed(1)\n",
    "x1 = np.random.normal(size=1000)\n",
    "x2 = np.random.lognormal(size=1000)\n",
    "\n",
    "plt.hist(z_transform(x1))\n",
    "plt.title('z-transformed normal data')\n",
    "plt.show()"
   ]
  },
  {
   "cell_type": "code",
   "execution_count": 78,
   "id": "86870068",
   "metadata": {},
   "outputs": [
    {
     "name": "stdout",
     "output_type": "stream",
     "text": [
      "0.05\n",
      "0.132\n"
     ]
    }
   ],
   "source": [
    "def frac_outside_1pt5_IQR(x):\n",
    "    length = 1.5 * np.diff(np.quantile(x, [.25, .75]))\n",
    "    return np.mean(np.abs(x - np.median(x)) > length)\n",
    "\n",
    "print(frac_outside_1pt5_IQR(x1))\n",
    "print(frac_outside_1pt5_IQR(x2))"
   ]
  },
  {
   "cell_type": "code",
   "execution_count": 82,
   "id": "ccc65dc7",
   "metadata": {},
   "outputs": [
    {
     "data": {
      "image/png": "[encoded data removed]",
      "text/plain": [
       "<Figure size 432x288 with 1 Axes>"
      ]
     },
     "metadata": {
      "needs_background": "light"
     },
     "output_type": "display_data"
    },
    {
     "data": {
      "image/png": "[encoded data removed]",
      "text/plain": [
       "<Figure size 432x288 with 1 Axes>"
      ]
     },
     "metadata": {
      "needs_background": "light"
     },
     "output_type": "display_data"
    }
   ],
   "source": [
    "plt.hist(df['Year'], 20)\n",
    "plt.title('Histogram of Year')\n",
    "plt.show()\n",
    "\n",
    "plt.boxplot(df['Year'])\n",
    "plt.title('Boxplot of Year')\n",
    "plt.show()"
   ]
  },
  {
   "cell_type": "code",
   "execution_count": 85,
   "id": "8f5a49f7",
   "metadata": {},
   "outputs": [],
   "source": [
    "from sklearn.linear_model import LinearRegression"
   ]
  },
  {
   "cell_type": "code",
   "execution_count": 114,
   "id": "138d3c06",
   "metadata": {},
   "outputs": [
    {
     "data": {
      "image/png": "[encoded data removed]",
      "text/plain": [
       "<Figure size 432x288 with 1 Axes>"
      ]
     },
     "metadata": {
      "needs_background": "light"
     },
     "output_type": "display_data"
    }
   ],
   "source": [
    "numpy.random.seed(2)\n",
    "\n",
    "x = numpy.random.normal(2003, 2011, 2007)\n",
    "y = numpy.random.normal(.9, 3, 1) / x\n",
    "\n",
    "plt.scatter(x, y)\n",
    "plt.show()"
   ]
  },
  {
   "cell_type": "code",
   "execution_count": 107,
   "id": "1cd0d119",
   "metadata": {},
   "outputs": [],
   "source": [
    "train_x = x[:80]\n",
    "train_y = y[:80]\n",
    "\n",
    "test_x = x[80:]\n",
    "test_y = y[80:]"
   ]
  },
  {
   "cell_type": "code",
   "execution_count": 108,
   "id": "acfeecc7",
   "metadata": {},
   "outputs": [
    {
     "data": {
      "image/png": "[encoded data removed]",
      "text/plain": [
       "<Figure size 432x288 with 1 Axes>"
      ]
     },
     "metadata": {
      "needs_background": "light"
     },
     "output_type": "display_data"
    }
   ],
   "source": [
    "plt.scatter(train_x, train_y)\n",
    "plt.show()"
   ]
  },
  {
   "cell_type": "code",
   "execution_count": 116,
   "id": "b33a7fe5",
   "metadata": {},
   "outputs": [
    {
     "name": "stdout",
     "output_type": "stream",
     "text": [
      "0.022263514466180356\n"
     ]
    }
   ],
   "source": [
    "from sklearn.metrics import r2_score\n",
    "numpy.random.seed(2)\n",
    "\n",
    "x = numpy.random.normal(2003, 2011, 2007)\n",
    "y = numpy.random.normal(.9, 3, 1) / x\n",
    "\n",
    "train_x = x[:80]\n",
    "train_y = y[:80]\n",
    "\n",
    "test_x = x[80:]\n",
    "test_y = y[80:]\n",
    "\n",
    "mymodel = numpy.poly1d(numpy.polyfit(train_x, train_y, 4))\n",
    "\n",
    "r2 = r2_score(train_y, mymodel(train_x))\n",
    "\n",
    "print(r2)"
   ]
  },
  {
   "cell_type": "code",
   "execution_count": 123,
   "id": "76faae43",
   "metadata": {},
   "outputs": [],
   "source": [
    "# My key takeaways are that older cars cost less and are driven for less kilometers"
   ]
  },
  {
   "cell_type": "code",
   "execution_count": 125,
   "id": "fa415048",
   "metadata": {},
   "outputs": [],
   "source": [
    "# I would advise the business to focus on building inventory of older model cars"
   ]
  },
  {
   "cell_type": "code",
   "execution_count": null,
   "id": "5def992d",
   "metadata": {},
   "outputs": [],
   "source": [
    "# Specifically 2012 models and less"
   ]
  },
  {
   "cell_type": "code",
   "execution_count": null,
   "id": "e621d7f1",
   "metadata": {},
   "outputs": [],
   "source": [
    "# Mumbai, Hyderabad, Pune and Jaipur had the oldest cars"
   ]
  }
 ],
 "metadata": {
  "kernelspec": {
   "display_name": "Python 3",
   "language": "python",
   "name": "python3"
  },
  "language_info": {
   "codemirror_mode": {
    "name": "ipython",
    "version": 3
   },
   "file_extension": ".py",
   "mimetype": "text/x-python",
   "name": "python",
   "nbconvert_exporter": "python",
   "pygments_lexer": "ipython3",
   "version": "3.8.8"
  }
 },
 "nbformat": 4,
 "nbformat_minor": 5
}
